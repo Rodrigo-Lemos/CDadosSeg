{
 "cells": [
  {
   "cell_type": "code",
   "execution_count": 1,
   "metadata": {},
   "outputs": [],
   "source": [
    "import os"
   ]
  },
  {
   "cell_type": "code",
   "execution_count": 14,
   "metadata": {},
   "outputs": [],
   "source": [
    "apks = os.listdir('Apks')\n",
    "for apk in apks:\n",
    "    apk = apk.replace('(', '\\(').replace(')', '\\)').replace(',', '\\,')\n",
    "    os.system('apktool d Apks/'+apk)\n",
    "    os.system('mv '+apk[0:len(apk)-4]+'/AndroidManifest.xml manifests/AndroidManifest_'+apk[0:len(apk)-4]+'.xml')\n",
    "    os.system('rm -r '+apk[0:len(apk)-4])"
   ]
  },
  {
   "cell_type": "code",
   "execution_count": null,
   "metadata": {},
   "outputs": [],
   "source": []
  }
 ],
 "metadata": {
  "kernelspec": {
   "display_name": "Python 3",
   "language": "python",
   "name": "python3"
  },
  "language_info": {
   "codemirror_mode": {
    "name": "ipython",
    "version": 3
   },
   "file_extension": ".py",
   "mimetype": "text/x-python",
   "name": "python",
   "nbconvert_exporter": "python",
   "pygments_lexer": "ipython3",
   "version": "3.8.6"
  }
 },
 "nbformat": 4,
 "nbformat_minor": 4
}
